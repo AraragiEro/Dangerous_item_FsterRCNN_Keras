{
 "cells": [
  {
   "cell_type": "code",
   "execution_count": 1,
   "metadata": {},
   "outputs": [
    {
     "name": "stderr",
     "output_type": "stream",
     "text": [
      "Using TensorFlow backend.\n"
     ]
    }
   ],
   "source": [
    "from keras.applications.vgg16 import VGG16\n",
    "from keras.layers import Conv2D,MaxPooling2D,Input\n",
    "from keras.layers.core import Reshape\n",
    "from keras.utils import plot_model\n",
    "import numpy as np\n",
    "import tensorflow as tf"
   ]
  },
  {
   "cell_type": "code",
   "execution_count": 4,
   "metadata": {},
   "outputs": [
    {
     "ename": "TypeError",
     "evalue": "can't multiply sequence by non-int of type 'float'",
     "output_type": "error",
     "traceback": [
      "\u001b[1;31m---------------------------------------------------------------------------\u001b[0m",
      "\u001b[1;31mTypeError\u001b[0m                                 Traceback (most recent call last)",
      "\u001b[1;32m<ipython-input-4-c97622855c6f>\u001b[0m in \u001b[0;36m<module>\u001b[1;34m\u001b[0m\n\u001b[0;32m      1\u001b[0m \u001b[0ma\u001b[0m \u001b[1;33m=\u001b[0m \u001b[1;33m[\u001b[0m\u001b[1;33m[\u001b[0m\u001b[1;36m2\u001b[0m\u001b[1;33m,\u001b[0m\u001b[1;36m2\u001b[0m\u001b[1;33m,\u001b[0m\u001b[1;36m2\u001b[0m\u001b[1;33m]\u001b[0m\u001b[1;33m,\u001b[0m\u001b[1;33m[\u001b[0m\u001b[1;36m4\u001b[0m\u001b[1;33m,\u001b[0m\u001b[1;36m4\u001b[0m\u001b[1;33m,\u001b[0m\u001b[1;36m4\u001b[0m\u001b[1;33m]\u001b[0m\u001b[1;33m,\u001b[0m\u001b[1;33m[\u001b[0m\u001b[1;36m3\u001b[0m\u001b[1;33m,\u001b[0m\u001b[1;36m3\u001b[0m\u001b[1;33m,\u001b[0m\u001b[1;36m3\u001b[0m\u001b[1;33m]\u001b[0m\u001b[1;33m]\u001b[0m\u001b[1;33m\u001b[0m\u001b[1;33m\u001b[0m\u001b[0m\n\u001b[1;32m----> 2\u001b[1;33m \u001b[0ma\u001b[0m \u001b[1;33m*\u001b[0m \u001b[1;36m0.1\u001b[0m\u001b[1;33m\u001b[0m\u001b[1;33m\u001b[0m\u001b[0m\n\u001b[0m",
      "\u001b[1;31mTypeError\u001b[0m: can't multiply sequence by non-int of type 'float'"
     ]
    }
   ],
   "source": [
    "a = [[2,2,2],[4,4,4],[3,3,3]]\n",
    "a * 0.1"
   ]
  },
  {
   "cell_type": "code",
   "execution_count": 16,
   "metadata": {},
   "outputs": [],
   "source": [
    "imInfo = tf.placeholder(tf.float32,shape=[1,None,None,3])\n",
    "Bbox= tf.placeholder(tf.float32,shape=[None,5])\n",
    "#---------------------ModelHead----------------------#\n",
    "input_img = Input(shape = (None,None,3))\n",
    "conv1 = Conv2D(64,(3,3),padding='same',activation='relu',trainable = False)(input_img)\n",
    "conv1 = Conv2D(64,(3,3),padding='same',activation='relu',trainable = False)(conv1)\n",
    "pool1 = MaxPooling2D((2,2),padding='same')(conv1)\n",
    "conv2 = Conv2D(128,(3,3),padding='same',activation='relu',trainable = False)(pool1)\n",
    "conv2 = Conv2D(128,(3,3),padding='same',activation='relu',trainable = False)(conv2)\n",
    "pool2 = MaxPooling2D((2,2),padding='same')(conv2)\n",
    "conv3 = Conv2D(256,(3,3),padding='same',activation='relu')(pool2)\n",
    "conv3 = Conv2D(256,(3,3),padding='same',activation='relu')(conv3)\n",
    "conv3 = Conv2D(256,(3,3),padding='same',activation='relu')(conv3)\n",
    "pool3 = MaxPooling2D((2,2),padding='same')(conv3)\n",
    "conv4 = Conv2D(512,(3,3),padding='same',activation='relu')(pool3)\n",
    "conv4 = Conv2D(512,(3,3),padding='same',activation='relu')(conv4)\n",
    "conv4 = Conv2D(512,(3,3),padding='same',activation='relu')(conv4)\n",
    "pool4 = MaxPooling2D((2,2),padding='same')(conv4)\n",
    "conv5 = Conv2D(512,(3,3),padding='same',activation='relu')(pool4)\n",
    "conv5 = Conv2D(512,(3,3),padding='same',activation='relu')(conv5)\n",
    "conv5 = Conv2D(512,(3,3),padding='same',activation='relu')(conv5)"
   ]
  },
  {
   "cell_type": "code",
   "execution_count": 17,
   "metadata": {
    "scrolled": true
   },
   "outputs": [],
   "source": [
    "#---------------------RPN----------------------#\n",
    "rpn_conv1 = Conv2D(512,(3,3),padding='same',activation='relu')(conv5)\n",
    "rpn_2k = Conv2D(18,(1,1),padding='same',activation='softmax')(rpn_conv1)\n",
    "rpn_2k = Reshape((-1,2))(rpn_2k)\n",
    "\n",
    "rpn_4k = Conv2D(36,(1,1),padding='same',activation=None)(rpn_conv1)\n",
    "rpn_4k = Reshape((-1,4))(rpn_4k)\n",
    "\n",
    "rpn_y = Bbox\n"
   ]
  },
  {
   "cell_type": "code",
   "execution_count": 18,
   "metadata": {},
   "outputs": [
    {
     "ename": "SyntaxError",
     "evalue": "invalid syntax (<ipython-input-18-a32cf42d8575>, line 1)",
     "output_type": "error",
     "traceback": [
      "\u001b[0;36m  File \u001b[0;32m\"<ipython-input-18-a32cf42d8575>\"\u001b[0;36m, line \u001b[0;32m1\u001b[0m\n\u001b[0;31m    model = Model(Inputs=input,outputs=)\u001b[0m\n\u001b[0m                                       ^\u001b[0m\n\u001b[0;31mSyntaxError\u001b[0m\u001b[0;31m:\u001b[0m invalid syntax\n"
     ]
    }
   ],
   "source": [
    "model = Model(Inputs=input,outputs=)\n",
    "import tensorflow as tf\n",
    "plot_model(model, to_file='model.png')"
   ]
  },
  {
   "cell_type": "code",
   "execution_count": 19,
   "metadata": {},
   "outputs": [
    {
     "name": "stdout",
     "output_type": "stream",
     "text": [
      "[[0.10013118 0.85336512 0.2632515  0.88521854]\n",
      " [0.64584751 0.15881316 0.1208292  0.8537158 ]\n",
      " [0.08288257 0.93083267 0.29243985 0.59701492]\n",
      " [0.14007532 0.76362515 0.93816239 0.9388209 ]\n",
      " [0.03843082 0.22647929 0.89110924 0.95699846]]\n"
     ]
    }
   ],
   "source": [
    "a = np.random.rand(5,4)\n",
    "print(a)"
   ]
  },
  {
   "cell_type": "code",
   "execution_count": 20,
   "metadata": {},
   "outputs": [
    {
     "name": "stdout",
     "output_type": "stream",
     "text": [
      "[[0.64584751 0.15881316 0.1208292  0.8537158 ]\n",
      " [0.03843082 0.22647929 0.89110924 0.95699846]\n",
      " [0.14007532 0.76362515 0.93816239 0.9388209 ]\n",
      " [0.10013118 0.85336512 0.2632515  0.88521854]\n",
      " [0.08288257 0.93083267 0.29243985 0.59701492]]\n"
     ]
    }
   ],
   "source": [
    "print(a[np.lexsort(a.T[1,None])])"
   ]
  },
  {
   "cell_type": "code",
   "execution_count": 26,
   "metadata": {},
   "outputs": [
    {
     "name": "stdout",
     "output_type": "stream",
     "text": [
      "[1 4 3 0 2]\n"
     ]
    }
   ],
   "source": [
    "print(np.lexsort(a.T[1,None]))"
   ]
  },
  {
   "cell_type": "code",
   "execution_count": 22,
   "metadata": {},
   "outputs": [
    {
     "name": "stdout",
     "output_type": "stream",
     "text": [
      "0\n",
      "1\n"
     ]
    }
   ],
   "source": [
    "for x in range(2):\n",
    "    print(x)"
   ]
  },
  {
   "cell_type": "code",
   "execution_count": 25,
   "metadata": {},
   "outputs": [
    {
     "data": {
      "text/plain": [
       "array([[0.64584751, 0.15881316, 0.1208292 , 0.8537158 ]])"
      ]
     },
     "execution_count": 25,
     "metadata": {},
     "output_type": "execute_result"
    }
   ],
   "source": [
    "a[1,None]"
   ]
  },
  {
   "cell_type": "code",
   "execution_count": 4,
   "metadata": {},
   "outputs": [],
   "source": [
    "import numpy as np\n",
    "a = np.array(range(12)).reshape(-1,2)"
   ]
  },
  {
   "cell_type": "code",
   "execution_count": 8,
   "metadata": {},
   "outputs": [
    {
     "data": {
      "text/plain": [
       "array([[ 0,  1],\n",
       "       [ 2,  3],\n",
       "       [ 4,  5],\n",
       "       [ 6,  7],\n",
       "       [ 8,  9],\n",
       "       [10, 11]])"
      ]
     },
     "execution_count": 8,
     "metadata": {},
     "output_type": "execute_result"
    }
   ],
   "source": [
    "a"
   ]
  },
  {
   "cell_type": "code",
   "execution_count": 13,
   "metadata": {},
   "outputs": [],
   "source": [
    "b = a[[1,3,5]][:,1]"
   ]
  },
  {
   "cell_type": "code",
   "execution_count": 14,
   "metadata": {},
   "outputs": [
    {
     "data": {
      "text/plain": [
       "array([ 3,  7, 11])"
      ]
     },
     "execution_count": 14,
     "metadata": {},
     "output_type": "execute_result"
    }
   ],
   "source": [
    "b"
   ]
  },
  {
   "cell_type": "code",
   "execution_count": null,
   "metadata": {},
   "outputs": [],
   "source": []
  },
  {
   "cell_type": "code",
   "execution_count": null,
   "metadata": {},
   "outputs": [],
   "source": []
  }
 ],
 "metadata": {
  "kernelspec": {
   "display_name": "Python 3",
   "language": "python",
   "name": "python3"
  },
  "language_info": {
   "codemirror_mode": {
    "name": "ipython",
    "version": 3
   },
   "file_extension": ".py",
   "mimetype": "text/x-python",
   "name": "python",
   "nbconvert_exporter": "python",
   "pygments_lexer": "ipython3",
   "version": "3.7.1"
  },
  "toc": {
   "base_numbering": 1,
   "nav_menu": {},
   "number_sections": true,
   "sideBar": true,
   "skip_h1_title": false,
   "title_cell": "Table of Contents",
   "title_sidebar": "Contents",
   "toc_cell": false,
   "toc_position": {},
   "toc_section_display": true,
   "toc_window_display": false
  }
 },
 "nbformat": 4,
 "nbformat_minor": 2
}
