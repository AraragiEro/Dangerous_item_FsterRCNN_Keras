{
 "cells": [
  {
   "cell_type": "code",
   "execution_count": 1,
   "metadata": {},
   "outputs": [],
   "source": [
    "import numpy as np\n",
    "import matplotlib.pyplot as plt\n",
    "import matplotlib.patches as patches\n",
    "import cv2\n",
    "\n",
    "%matplotlib inline"
   ]
  },
  {
   "cell_type": "code",
   "execution_count": 2,
   "metadata": {},
   "outputs": [],
   "source": [
    "size_Y = 7\n",
    "size_X = 7\n",
    "rpn_stride = 8\n",
    "\n",
    "scales = [2,4,8]\n",
    "rations = [0.5,1,2]"
   ]
  },
  {
   "cell_type": "code",
   "execution_count": 3,
   "metadata": {},
   "outputs": [],
   "source": [
    "def anchor_gen(size_X,size_Y,rpn_stride,scales,rations):\n",
    "    scales , rations = np.meshgrid( scales , rations )\n",
    "    scales , rations = scales.flatten() , rations.flatten()\n",
    "    scaleY = scales * np.sqrt(rations)\n",
    "    scaleX = scales / np.sqrt(rations)\n",
    "    #---------------------------------\n",
    "    '''\n",
    "    X * Y = scales^2\n",
    "    X / Y = rations\n",
    "    scales是面积关系，rations是X Y比值。\n",
    "    解得如上关系。\n",
    "    可以保证同种尺寸的面积一致。\n",
    "    '''\n",
    "    #--------------------------------\n",
    "\n",
    "    shiftX = np.arange(0,size_X) * rpn_stride\n",
    "    shiftY = np.arange(0,size_Y) * rpn_stride\n",
    "    shiftX,shiftY = np.meshgrid(shiftX,shiftY)\n",
    "    centerX,anchorX = np.meshgrid(shiftX,scaleX)\n",
    "    centerY,anchorY = np.meshgrid(shiftY,scaleY)\n",
    "    anchor_center = np.stack([centerY,centerX],axis = 2).reshape(-1,2)\n",
    "    anchor_size = np.stack([anchorY,anchorX],axis = 2).reshape(-1,2)\n",
    "    boxes = np.concatenate([anchor_center - 0.5*anchor_size,anchor_center + 0.5*anchor_size],axis = 1)\n",
    "    return boxes\n"
   ]
  },
  {
   "cell_type": "code",
   "execution_count": 4,
   "metadata": {},
   "outputs": [
    {
     "data": {
      "text/plain": [
       "(441, 4)"
      ]
     },
     "execution_count": 4,
     "metadata": {},
     "output_type": "execute_result"
    }
   ],
   "source": [
    "anchors = anchor_gen(size_X,size_Y,rpn_stride,scales,rations)\n",
    "anchors.shape"
   ]
  },
  {
   "cell_type": "code",
   "execution_count": 5,
   "metadata": {},
   "outputs": [
    {
     "data": {
      "image/png": "[encoded data removed]",
      "text/plain": [
       "<Figure size 720x720 with 1 Axes>"
      ]
     },
     "metadata": {
      "needs_background": "light"
     },
     "output_type": "display_data"
    }
   ],
   "source": [
    "plt.figure(figsize=(10,10))\n",
    "img = cv2.resize(img,())\n",
    "plt.imshow(img)\n",
    "Axs = plt.gca()#get current Axs\n",
    "\n",
    "for i in range(anchors.shape[0]):\n",
    "    box = anchors[i]\n",
    "    rec = patches.Rectangle((box[0],box[1]),box[2]-box[0],box[3]-box[1],edgecolor = 'r',facecolor='none')\n",
    "    Axs.add_patch(rec)\n"
   ]
  },
  {
   "cell_type": "code",
   "execution_count": 6,
   "metadata": {},
   "outputs": [],
   "source": [
    "    scales , rations = np.meshgrid( scales , rations )\n",
    "    scales , rations = scales.flatten() , rations.flatten()\n",
    "    scaleY = scales * np.sqrt(rations)\n",
    "    scaleX = scales / np.sqrt(rations)\n",
    "    #---------------------------------\n",
    "    '''\n",
    "    X * Y = scales^2\n",
    "    X / Y = rations\n",
    "    scales是面积关系，rations是X Y比值。\n",
    "    解得如上关系。\n",
    "    可以保证同种尺寸的面积一致。\n",
    "    '''\n",
    "    #--------------------------------\n",
    "\n",
    "    shiftX = np.arange(0,size_X) * rpn_stride\n",
    "    shiftY = np.arange(0,size_Y) * rpn_stride\n",
    "    shiftX,shiftY = np.meshgrid(shiftX,shiftY)\n",
    "    centerX,anchorX = np.meshgrid(shiftX,scaleX)\n",
    "    centerY,anchorY = np.meshgrid(shiftY,scaleY)\n",
    "    anchor_center = np.stack([centerY,centerX],axis = 2).reshape(-1,2)\n",
    "    anchor_size = np.stack([anchorY,anchorX],axis = 2).reshape(-1,2)"
   ]
  },
  {
   "cell_type": "code",
   "execution_count": 7,
   "metadata": {},
   "outputs": [
    {
     "data": {
      "text/plain": [
       "(441, 2)"
      ]
     },
     "execution_count": 7,
     "metadata": {},
     "output_type": "execute_result"
    }
   ],
   "source": [
    "anchor_center.shape"
   ]
  },
  {
   "cell_type": "code",
   "execution_count": 39,
   "metadata": {},
   "outputs": [],
   "source": [
    "a = np.array([[1,2,3],[3,4,4]])\n",
    "b = np.array([[1,2,3],[3,4,5],[5,6,7]])"
   ]
  },
  {
   "cell_type": "code",
   "execution_count": 40,
   "metadata": {},
   "outputs": [
    {
     "data": {
      "text/plain": [
       "array([[1, 2, 3],\n",
       "       [3, 4, 5],\n",
       "       [5, 6, 7]])"
      ]
     },
     "execution_count": 40,
     "metadata": {},
     "output_type": "execute_result"
    }
   ],
   "source": [
    "b"
   ]
  },
  {
   "cell_type": "code",
   "execution_count": 41,
   "metadata": {},
   "outputs": [
    {
     "data": {
      "text/plain": [
       "[array([[1],\n",
       "        [3]]), array([[2, 3],\n",
       "        [4, 4]])]"
      ]
     },
     "execution_count": 41,
     "metadata": {},
     "output_type": "execute_result"
    }
   ],
   "source": [
    "c = np.split(a,[1],axis=1)\n",
    "c"
   ]
  },
  {
   "cell_type": "code",
   "execution_count": 48,
   "metadata": {},
   "outputs": [
    {
     "data": {
      "text/plain": [
       "[array([[1],\n",
       "        [3],\n",
       "        [5]]), array([[2],\n",
       "        [4],\n",
       "        [6]]), array([[3],\n",
       "        [5],\n",
       "        [7]])]"
      ]
     },
     "execution_count": 48,
     "metadata": {},
     "output_type": "execute_result"
    }
   ],
   "source": [
    "np.split(b,(1,2),axis=1)"
   ]
  },
  {
   "cell_type": "markdown",
   "metadata": {},
   "source": [
    "## "
   ]
  }
 ],
 "metadata": {
  "kernelspec": {
   "display_name": "Python 3",
   "language": "python",
   "name": "python3"
  },
  "language_info": {
   "codemirror_mode": {
    "name": "ipython",
    "version": 3
   },
   "file_extension": ".py",
   "mimetype": "text/x-python",
   "name": "python",
   "nbconvert_exporter": "python",
   "pygments_lexer": "ipython3",
   "version": "3.7.1"
  },
  "toc": {
   "base_numbering": 1,
   "nav_menu": {},
   "number_sections": true,
   "sideBar": true,
   "skip_h1_title": false,
   "title_cell": "Table of Contents",
   "title_sidebar": "Contents",
   "toc_cell": false,
   "toc_position": {},
   "toc_section_display": true,
   "toc_window_display": false
  }
 },
 "nbformat": 4,
 "nbformat_minor": 2
}
