{
 "cells": [
  {
   "cell_type": "code",
   "execution_count": 1,
   "metadata": {},
   "outputs": [
    {
     "name": "stderr",
     "output_type": "stream",
     "text": [
      "Using TensorFlow backend.\n"
     ]
    }
   ],
   "source": [
    "import keras.layers as KL\n",
    "from keras.models import Model\n",
    "import keras.backend as K\n",
    "import tensorflow as tf\n",
    "from dataset import dataset\n",
    "import keras\n",
    "import numpy as np"
   ]
  },
  {
   "cell_type": "code",
   "execution_count": null,
   "metadata": {},
   "outputs": [],
   "source": []
  },
  {
   "cell_type": "code",
   "execution_count": 2,
   "metadata": {},
   "outputs": [
    {
     "ename": "SyntaxError",
     "evalue": "positional argument follows keyword argument (<ipython-input-2-5bb54f05dd81>, line 7)",
     "output_type": "error",
     "traceback": [
      "\u001b[1;36m  File \u001b[1;32m\"<ipython-input-2-5bb54f05dd81>\"\u001b[1;36m, line \u001b[1;32m7\u001b[0m\n\u001b[1;33m    y = KL.Conv2D(filters,(1,1),strides=stride,train)(x)\u001b[0m\n\u001b[1;37m                                              ^\u001b[0m\n\u001b[1;31mSyntaxError\u001b[0m\u001b[1;31m:\u001b[0m positional argument follows keyword argument\n"
     ]
    }
   ],
   "source": [
    "def building_block(filters, block):\n",
    "    if block !=0:\n",
    "        stride = 1\n",
    "    else:\n",
    "        stride = 2\n",
    "    def f(x):\n",
    "        y = KL.Conv2D(filters,(1,1),strides=stride,train)(x)\n",
    "        y = KL.BatchNormalization(axis=3)(y)\n",
    "        y = KL.Activation('relu')(y)\n",
    "        \n",
    "        y = KL.Conv2D(filters,(3,3),padding='same')(y)\n",
    "        y = KL.BatchNormalization(axis=3)(y)\n",
    "        y = KL.Activation('relu')(y)        \n",
    "    \n",
    "        y = KL.Conv2D(4*filters,(1,1))(y)\n",
    "        y = KL.BatchNormalization(axis=3)(y)\n",
    "        \n",
    "        if block == 0:\n",
    "            shortcut = KL.Conv2D(4*filters,(1,1),strides=stride)(x)\n",
    "            shortcut = KL.BatchNormalization(axis=3)(shortcut)\n",
    "        else:\n",
    "            shortcut = x\n",
    "        y = KL.Add()([y,shortcut])\n",
    "        y = KL.Activation('relu')(y)\n",
    "        return y\n",
    "    return f"
   ]
  },
  {
   "cell_type": "code",
   "execution_count": null,
   "metadata": {},
   "outputs": [],
   "source": [
    "def resnet_featureExtractor(inputs):\n",
    "    x = KL.Conv2D(64,(3,3),padding='same'，)(inputs)\n",
    "    x = KL.BatchNormalization(axis=3)(x)\n",
    "    x = KL.Activation('relu')(x)\n",
    "    \n",
    "    filters = 32\n",
    "    blocks = [3,6,4]\n",
    "    for i,blocknum in enumerate(blocks):\n",
    "        for block_id in range(blocknum):\n",
    "            x = building_block(filters, block_id)(x)\n",
    "        filters *= 2\n",
    "    return x"
   ]
  },
  {
   "cell_type": "code",
   "execution_count": null,
   "metadata": {},
   "outputs": [],
   "source": [
    "def rpn_net(inputs, k):\n",
    "    shared_map = KL.Conv2D(256,(3,3),padding='same')(inputs)\n",
    "    shared_map = KL.Activation('linear')(shared_map)\n",
    "    rpn_class = KL.Conv2D(2*k,(1,1))(shared_map)\n",
    "    rpn_class = KL.Lambda(lambda x:tf.reshape(x,[tf.shape(x)[0],-1,2]))(rpn_class)\n",
    "    rpn_class = KL.Activation('linear')(rpn_class)\n",
    "    rpn_prob = KL.Activation('softmax')(rpn_class)\n",
    "    \n",
    "    y = KL.Conv2D(4*k,(1,1))(shared_map)\n",
    "    y = KL.Activation('linear')(y)\n",
    "    \n",
    "    rpn_bbox = KL.Lambda(lambda x:tf.reshape(x,[tf.shape(x)[0],-1,4]))(y)\n",
    "    return rpn_class, rpn_prob, rpn_bbox"
   ]
  },
  {
   "cell_type": "code",
   "execution_count": null,
   "metadata": {},
   "outputs": [],
   "source": [
    "def rpn_class_loss(rpn_match, rpn_class_logits):\n",
    "    ## rpn_match (None, 576, 1)\n",
    "    ## rpn_class_logits (None, 576, 2)\n",
    "    rpn_match = tf.squeeze(rpn_match, -1)\n",
    "    indices = tf.where(K.not_equal(rpn_match,0))\n",
    "    \n",
    "    anchor_class = K.equal(rpn_match, 1)\n",
    "    anchor_class = K.cast(anchor_class, tf.int32)   \n",
    "    \n",
    "    rpn_class_logits = tf.gather_nd(rpn_class_logits,indices)  ###prediction\n",
    "    anchor_class = tf.gather_nd(anchor_class, indices)###target\n",
    "    loss = K.sparse_categorical_crossentropy(target=anchor_class, output=rpn_class_logits, from_logits=True)\n",
    "    loss = K.switch(tf.size(loss) > 0, K.mean(loss), tf.constant(0.0))\n",
    "    return loss\n",
    "\n",
    "def rpn_bbox_loss(target_bbox, rpn_match, rpn_bbox):\n",
    "    rpn_match = tf.squeeze(rpn_match, -1)\n",
    "    indices = tf.where(K.equal(rpn_match, 1))\n",
    "    rpn_bbox = tf.gather_nd(rpn_bbox, indices)\n",
    "    batch_counts = K.equal(rpn_match, 1)\n",
    "    batch_counts = K.cast(batch_counts, tf.int32)\n",
    "    batch_counts = K.sum(batch_counts, axis=1)\n",
    "    target_bbox = tf.gather_nd(target_bbox, indices)\n",
    "    diff = K.abs(target_bbox - rpn_bbox)\n",
    "    less_than_one = K.cast(K.less(diff, 1.0), 'float32')\n",
    "    loss = (less_than_one * 0.5 * diff**2) + (1 - less_than_one) * 0.5\n",
    "    loss = K.switch(tf.size(loss) > 0,K.mean(loss), tf.constant(0.0))\n",
    "    return loss\n",
    "    \n",
    "def classifier_deltes_loss(target_deltes,Fdeltes):\n",
    "    t = tf.reshape(target_deltes[0],[1,-1,4])\n",
    "    F = tf.reshape(Fdeltes[0],[1,-1,4])\n",
    "    diff = t-F\n",
    "    lessTone = K.cast(K.less(diff, 1.0), \"float32\")\n",
    "    loss = (lessTone *0.5* diff**2) + (1-lessTone)*0.5\n",
    "    loss = K.mean(loss)\n",
    "    return loss\n",
    "    \n",
    "def classifier_class_loss(ClassID,Fclass):\n",
    "    loss = K.mean(K.sparse_categorical_crossentropy(target = ClassID, output=Fclass))\n",
    "    return loss"
   ]
  },
  {
   "cell_type": "code",
   "execution_count": null,
   "metadata": {},
   "outputs": [],
   "source": [
    "from layers import target_detector, proposal, classifier"
   ]
  },
  {
   "cell_type": "code",
   "execution_count": null,
   "metadata": {},
   "outputs": [],
   "source": [
    "'''\n",
    "def classifier(feature_map,cropsize):\n",
    "    roifeature = roipooling((cropsize*2,cropsize*2), tf.shape(feature_map)[1:3])([feature_map,proposal])\n",
    "    \n",
    "    roifeature = tf.map_fn(lambda x:KL.pooling.MaxPool2D()(x),roifeature)\n",
    "    \n",
    "    roifeature = KL.Conv2D(64,(3,3),padding='valid',strides=2)(roifeature)\n",
    "    roifeature = KL.Conv2D(64,(3,3),padding='valid',strides=2)(roifeature)\n",
    "    roifeature = KL.BatchNormalization(axis = 3)(roifeature)\n",
    " \n",
    "    return roifeature\n",
    "     '''  \n",
    "    \n",
    "    "
   ]
  },
  {
   "cell_type": "code",
   "execution_count": null,
   "metadata": {},
   "outputs": [],
   "source": []
  },
  {
   "cell_type": "code",
   "execution_count": null,
   "metadata": {
    "scrolled": false
   },
   "outputs": [],
   "source": [
    "input_image = KL.Input(shape=[None,None,3], dtype=tf.float32)\n",
    "input_gtCWH = KL.Input(shape=[None,5], dtype=tf.float32)\n",
    "input_anchorsCWH = KL.Input(shape=[None,4], dtype=tf.float32)\n",
    "input_rpn_match = KL.Input(shape=[None,1], dtype=tf.int32)\n",
    "input_rpn_bbox = KL.Input(shape=[None,4], dtype=tf.float32)\n",
    "\n",
    "feature_map = resnet_featureExtractor(input_image)\n",
    "rpn_class, rpn_prob, rpn_bbox = rpn_net(feature_map, 9)\n",
    "\n",
    "proposal = proposal(0.8, 100, tf.shape(input_image)[1:3])([rpn_class,rpn_bbox,input_anchorsCWH])#input[rpn2K,rpn4K,anchorsCWH]\n",
    "classID, target_deltes = target_detector(tf.shape(input_image)[1:3])([proposal,input_gtCWH])#input[proposal,imgsize,gt_bboxsCWH]\n",
    "Fclass, Fdeltes = classifier(7,tf.shape(feature_map)[1:3],512,5)([feature_map,proposal])\n",
    "\n",
    "loss_rpn_match = KL.Lambda(lambda x:rpn_class_loss(*x), name='loss_rpn_match')([input_rpn_match, rpn_class])\n",
    "loss_rpn_bbox = KL.Lambda(lambda x:rpn_bbox_loss(*x), name='loss_rpn_bbox')([input_rpn_bbox, input_rpn_match, rpn_bbox])\n",
    "loss_classifier_deltes = KL.Lambda(lambda x:classifier_deltes_loss(*x), name='loss_classifier_deltes')([target_deltes,Fdeltes])\n",
    "loss_classifier_class = KL.Lambda(lambda x:classifier_class_loss(*x), name='loss_classifier_class')([classID,Fclass])\n",
    "\n",
    "model = Model([input_image,input_gtCWH,input_anchorsCWH,input_rpn_match,input_rpn_bbox],\n",
    "              [loss_rpn_match,loss_rpn_bbox,loss_classifier_deltes,loss_classifier_class])\n",
    "\n",
    "rlc = model.get_layer('loss_rpn_match').output\n",
    "rld = model.get_layer('loss_rpn_bbox').output\n",
    "cfc = model.get_layer('loss_classifier_class').output\n",
    "cfd = model.get_layer('loss_classifier_deltes').output\n",
    "\n",
    "model.add_loss(rlc)\n",
    "model.add_loss(rld)\n",
    "model.add_loss(cfc)\n",
    "model.add_loss(cfd)\n",
    "model.compile(loss=[None]*len(model.output), optimizer=keras.optimizers.SGD(lr=0.0005, momentum = 0.9))"
   ]
  },
  {
   "cell_type": "code",
   "execution_count": null,
   "metadata": {
    "scrolled": false
   },
   "outputs": [],
   "source": [
    "Dir = '../data/VOC-kd'\n",
    "data = dataset(Dir)\n",
    "getn = data.gen_batch()\n",
    "'''                yield [ img,\n",
    "                        bboxCWH,\n",
    "                        anchorsCWH,\n",
    "                        input_rpn_match,\n",
    "                        rpn_bbox,\n",
    "                        TL[0]\n",
    "                        ],[]\n",
    "                        '''\n",
    "a = next(getn)[0]"
   ]
  },
  {
   "cell_type": "code",
   "execution_count": null,
   "metadata": {},
   "outputs": [],
   "source": [
    "train = model.fit_generator(getn,steps_per_epoch=len(data.TrainList), epochs=2,\n",
    "                       )"
   ]
  }
 ],
 "metadata": {
  "kernelspec": {
   "display_name": "Python 3",
   "language": "python",
   "name": "python3"
  },
  "language_info": {
   "codemirror_mode": {
    "name": "ipython",
    "version": 3
   },
   "file_extension": ".py",
   "mimetype": "text/x-python",
   "name": "python",
   "nbconvert_exporter": "python",
   "pygments_lexer": "ipython3",
   "version": "3.7.1"
  },
  "toc": {
   "base_numbering": 1,
   "nav_menu": {},
   "number_sections": true,
   "sideBar": true,
   "skip_h1_title": false,
   "title_cell": "Table of Contents",
   "title_sidebar": "Contents",
   "toc_cell": false,
   "toc_position": {},
   "toc_section_display": true,
   "toc_window_display": false
  }
 },
 "nbformat": 4,
 "nbformat_minor": 2
}
