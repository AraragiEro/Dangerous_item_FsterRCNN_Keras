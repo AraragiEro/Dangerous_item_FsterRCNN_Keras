{
 "cells": [
  {
   "cell_type": "code",
   "execution_count": 1,
   "metadata": {},
   "outputs": [
    {
     "name": "stderr",
     "output_type": "stream",
     "text": [
      "Using TensorFlow backend.\n"
     ]
    }
   ],
   "source": [
    "from keras.models import Sequential,Model\n",
    "import keras.layers as KL\n",
    "import keras.backend as K\n",
    "import numpy as np"
   ]
  },
  {
   "cell_type": "code",
   "execution_count": 2,
   "metadata": {},
   "outputs": [],
   "source": [
    "def custom_loss1(y_true,y_prod):\n",
    "    return K.mean(K.abs(y_true - y_prod))\n",
    "\n",
    "def custom_loss2(y_true,y_prod):\n",
    "    return K.mean(K.square(y_true -  y_prod))"
   ]
  },
  {
   "cell_type": "code",
   "execution_count": 6,
   "metadata": {},
   "outputs": [],
   "source": [
    "input_tensor1 = KL.Input((32,32,3))\n",
    "input_tensor2 = KL.Input((4,))\n",
    "input_target = KL.Input((2,))\n",
    "\n",
    "x = KL.BatchNormalization(axis=-1)(input_tensor1)#?\n",
    "x = KL.Conv2D(16,(3,3),padding='same')(x)\n",
    "x = KL.Activation('relu')(x)\n",
    "x = KL.MaxPool2D(2)(x)\n",
    "x = KL.Conv2D(32,(3,3),padding='same')(x)\n",
    "x = KL.Activation('relu')(x)\n",
    "x = KL.MaxPool2D(2)(x)\n",
    "x = KL.Flatten()(x)\n",
    "x = KL.Dense(32)(x)\n",
    "out2 = KL.Dense(2)(x)\n",
    "\n",
    "y = KL.Dense(32)(input_tensor2)\n",
    "out1 = KL.Dense(2)(y)\n",
    "loss1 = KL.Lambda(lambda x:custom_loss1(*x),name='loss1')([out2,out1])\n",
    "loss2 = KL.Lambda(lambda x:custom_loss2(*x),name='loss2')([input_target,out2])\n",
    "\n",
    "model = Model([input_tensor1,input_tensor2,input_target],[out1,out2,loss1,loss2])"
   ]
  },
  {
   "cell_type": "code",
   "execution_count": 7,
   "metadata": {},
   "outputs": [],
   "source": [
    "from keras.utils.vis_utils import plot_model\n",
    "plot_model(model,to_file='model_loss2.png',show_shapes=True)"
   ]
  },
  {
   "cell_type": "code",
   "execution_count": 8,
   "metadata": {},
   "outputs": [],
   "source": [
    "loss_lay1 = model.get_layer('loss1').output\n",
    "loss_lay2 = model.get_layer('loss2').output\n",
    "\n",
    "model.add_loss(loss_lay1)#loss层，add后compile不用加loss\n",
    "model.add_loss(loss_lay2)\n",
    "\n",
    "model.compile(optimizer='sgd',loss=[None,None,None,None])\n",
    "\n",
    "# KL.Lambda(func)(input)\n",
    "# keras"
   ]
  },
  {
   "cell_type": "code",
   "execution_count": 10,
   "metadata": {},
   "outputs": [],
   "source": [
    "def data_gen(num):\n",
    "    for i in range(num):\n",
    "        yield [np.random.normal(1,1,(1,32,32,3)),np.random.normal(1,1,(1,4)),np.random.normal(1,1,(1,2))],[]"
   ]
  },
  {
   "cell_type": "code",
   "execution_count": 11,
   "metadata": {},
   "outputs": [],
   "source": [
    "dataset = data_gen(10000)"
   ]
  },
  {
   "cell_type": "code",
   "execution_count": 12,
   "metadata": {},
   "outputs": [
    {
     "name": "stdout",
     "output_type": "stream",
     "text": [
      "Epoch 1/20\n",
      "100/100 [==============================] - 5s 52ms/step - loss: 2.8870\n",
      "Epoch 2/20\n",
      "100/100 [==============================] - 0s 3ms/step - loss: 1.2256\n",
      "Epoch 3/20\n",
      "100/100 [==============================] - 0s 4ms/step - loss: 1.0970\n",
      "Epoch 4/20\n",
      "100/100 [==============================] - 0s 3ms/step - loss: 1.2083\n",
      "Epoch 5/20\n",
      "100/100 [==============================] - 0s 3ms/step - loss: 1.0425\n",
      "Epoch 6/20\n",
      "100/100 [==============================] - 0s 3ms/step - loss: 1.1733\n",
      "Epoch 7/20\n",
      "100/100 [==============================] - 0s 4ms/step - loss: 1.2067\n",
      "Epoch 8/20\n",
      "100/100 [==============================] - 0s 4ms/step - loss: 1.0051\n",
      "Epoch 9/20\n",
      "100/100 [==============================] - 0s 4ms/step - loss: 1.1781\n",
      "Epoch 10/20\n",
      "100/100 [==============================] - 0s 3ms/step - loss: 1.1137\n",
      "Epoch 11/20\n",
      "100/100 [==============================] - 0s 3ms/step - loss: 1.1976\n",
      "Epoch 12/20\n",
      "100/100 [==============================] - 0s 3ms/step - loss: 1.2063\n",
      "Epoch 13/20\n",
      "100/100 [==============================] - 0s 4ms/step - loss: 1.1193\n",
      "Epoch 14/20\n",
      "100/100 [==============================] - 0s 4ms/step - loss: 1.0070\n",
      "Epoch 15/20\n",
      "100/100 [==============================] - 0s 3ms/step - loss: 1.0242\n",
      "Epoch 16/20\n",
      "100/100 [==============================] - 0s 4ms/step - loss: 1.1291\n",
      "Epoch 17/20\n",
      "100/100 [==============================] - 0s 4ms/step - loss: 1.1332\n",
      "Epoch 18/20\n",
      "100/100 [==============================] - 0s 3ms/step - loss: 1.2190\n",
      "Epoch 19/20\n",
      "100/100 [==============================] - 0s 3ms/step - loss: 1.0161\n",
      "Epoch 20/20\n",
      "100/100 [==============================] - 0s 4ms/step - loss: 1.0894\n"
     ]
    },
    {
     "data": {
      "text/plain": [
       "<keras.callbacks.History at 0x1b7e8540400>"
      ]
     },
     "execution_count": 12,
     "metadata": {},
     "output_type": "execute_result"
    }
   ],
   "source": [
    "model.fit_generator(dataset,steps_per_epoch=100,epochs=20)"
   ]
  },
  {
   "cell_type": "code",
   "execution_count": null,
   "metadata": {},
   "outputs": [],
   "source": []
  }
 ],
 "metadata": {
  "kernelspec": {
   "display_name": "Python 3",
   "language": "python",
   "name": "python3"
  },
  "language_info": {
   "codemirror_mode": {
    "name": "ipython",
    "version": 3
   },
   "file_extension": ".py",
   "mimetype": "text/x-python",
   "name": "python",
   "nbconvert_exporter": "python",
   "pygments_lexer": "ipython3",
   "version": "3.6.5"
  },
  "toc": {
   "base_numbering": 1,
   "nav_menu": {},
   "number_sections": true,
   "sideBar": true,
   "skip_h1_title": false,
   "title_cell": "Table of Contents",
   "title_sidebar": "Contents",
   "toc_cell": false,
   "toc_position": {},
   "toc_section_display": true,
   "toc_window_display": false
  }
 },
 "nbformat": 4,
 "nbformat_minor": 2
}
